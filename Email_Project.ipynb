{
  "nbformat": 4,
  "nbformat_minor": 0,
  "metadata": {
    "colab": {
      "name": "Email_Project.ipynb",
      "provenance": []
    },
    "kernelspec": {
      "name": "python3",
      "display_name": "Python 3"
    },
    "language_info": {
      "name": "python"
    }
  },
  "cells": [
    {
      "cell_type": "markdown",
      "source": [
        "# This file project will take in all of the emails and pull out the links that are relevant. It will shorten the number of articles you will need to research and save up some time. Follow the steps below. "
      ],
      "metadata": {
        "id": "_WYRlaOsxdO7"
      }
    },
    {
      "cell_type": "markdown",
      "source": [
        "Input: A file with the email copy and pasted\n",
        "\n",
        "Output: \n",
        "- A file with the relevant links AND\n",
        "- A file with the links that you will have to manually look through since the Colab notebook was unable to"
      ],
      "metadata": {
        "id": "D7EST4f-NXdF"
      }
    },
    {
      "cell_type": "markdown",
      "source": [
        "FIRST: Copy all the emails into a single file(.csv, .fasta, etc). "
      ],
      "metadata": {
        "id": "usKgyqaHxV-F"
      }
    },
    {
      "cell_type": "markdown",
      "source": [
        "SECOND: Add file to google drive using \"File Upload\". DO NOT put the file in any folders. "
      ],
      "metadata": {
        "id": "V-tP8Dj6xV5-"
      }
    },
    {
      "cell_type": "code",
      "execution_count": null,
      "metadata": {
        "colab": {
          "base_uri": "https://localhost:8080/"
        },
        "cellView": "form",
        "id": "uI0JPr5qtqmr",
        "outputId": "67042fd6-6196-40e3-f99e-c4b424f86501"
      },
      "outputs": [
        {
          "output_type": "stream",
          "name": "stdout",
          "text": [
            "Looking in indexes: https://pypi.org/simple, https://us-python.pkg.dev/colab-wheels/public/simple/\n",
            "Requirement already satisfied: newspaper3k in /usr/local/lib/python3.7/dist-packages (0.2.8)\n",
            "Requirement already satisfied: Pillow>=3.3.0 in /usr/local/lib/python3.7/dist-packages (from newspaper3k) (7.1.2)\n",
            "Requirement already satisfied: tldextract>=2.0.1 in /usr/local/lib/python3.7/dist-packages (from newspaper3k) (3.3.1)\n",
            "Requirement already satisfied: feedfinder2>=0.0.4 in /usr/local/lib/python3.7/dist-packages (from newspaper3k) (0.0.4)\n",
            "Requirement already satisfied: cssselect>=0.9.2 in /usr/local/lib/python3.7/dist-packages (from newspaper3k) (1.1.0)\n",
            "Requirement already satisfied: python-dateutil>=2.5.3 in /usr/local/lib/python3.7/dist-packages (from newspaper3k) (2.8.2)\n",
            "Requirement already satisfied: requests>=2.10.0 in /usr/local/lib/python3.7/dist-packages (from newspaper3k) (2.23.0)\n",
            "Requirement already satisfied: nltk>=3.2.1 in /usr/local/lib/python3.7/dist-packages (from newspaper3k) (3.7)\n",
            "Requirement already satisfied: tinysegmenter==0.3 in /usr/local/lib/python3.7/dist-packages (from newspaper3k) (0.3)\n",
            "Requirement already satisfied: PyYAML>=3.11 in /usr/local/lib/python3.7/dist-packages (from newspaper3k) (3.13)\n",
            "Requirement already satisfied: lxml>=3.6.0 in /usr/local/lib/python3.7/dist-packages (from newspaper3k) (4.9.1)\n",
            "Requirement already satisfied: jieba3k>=0.35.1 in /usr/local/lib/python3.7/dist-packages (from newspaper3k) (0.35.1)\n",
            "Requirement already satisfied: feedparser>=5.2.1 in /usr/local/lib/python3.7/dist-packages (from newspaper3k) (6.0.10)\n",
            "Requirement already satisfied: beautifulsoup4>=4.4.1 in /usr/local/lib/python3.7/dist-packages (from newspaper3k) (4.6.3)\n",
            "Requirement already satisfied: six in /usr/local/lib/python3.7/dist-packages (from feedfinder2>=0.0.4->newspaper3k) (1.15.0)\n",
            "Requirement already satisfied: sgmllib3k in /usr/local/lib/python3.7/dist-packages (from feedparser>=5.2.1->newspaper3k) (1.0.0)\n",
            "Requirement already satisfied: click in /usr/local/lib/python3.7/dist-packages (from nltk>=3.2.1->newspaper3k) (7.1.2)\n",
            "Requirement already satisfied: regex>=2021.8.3 in /usr/local/lib/python3.7/dist-packages (from nltk>=3.2.1->newspaper3k) (2022.6.2)\n",
            "Requirement already satisfied: joblib in /usr/local/lib/python3.7/dist-packages (from nltk>=3.2.1->newspaper3k) (1.1.0)\n",
            "Requirement already satisfied: tqdm in /usr/local/lib/python3.7/dist-packages (from nltk>=3.2.1->newspaper3k) (4.64.0)\n",
            "Requirement already satisfied: chardet<4,>=3.0.2 in /usr/local/lib/python3.7/dist-packages (from requests>=2.10.0->newspaper3k) (3.0.4)\n",
            "Requirement already satisfied: certifi>=2017.4.17 in /usr/local/lib/python3.7/dist-packages (from requests>=2.10.0->newspaper3k) (2022.6.15)\n",
            "Requirement already satisfied: idna<3,>=2.5 in /usr/local/lib/python3.7/dist-packages (from requests>=2.10.0->newspaper3k) (2.10)\n",
            "Requirement already satisfied: urllib3!=1.25.0,!=1.25.1,<1.26,>=1.21.1 in /usr/local/lib/python3.7/dist-packages (from requests>=2.10.0->newspaper3k) (1.24.3)\n",
            "Requirement already satisfied: requests-file>=1.4 in /usr/local/lib/python3.7/dist-packages (from tldextract>=2.0.1->newspaper3k) (1.5.1)\n",
            "Requirement already satisfied: filelock>=3.0.8 in /usr/local/lib/python3.7/dist-packages (from tldextract>=2.0.1->newspaper3k) (3.7.1)\n",
            "Looking in indexes: https://pypi.org/simple, https://us-python.pkg.dev/colab-wheels/public/simple/\n",
            "Requirement already satisfied: summa in /usr/local/lib/python3.7/dist-packages (1.2.0)\n",
            "Requirement already satisfied: scipy>=0.19 in /usr/local/lib/python3.7/dist-packages (from summa) (1.7.3)\n",
            "Requirement already satisfied: numpy<1.23.0,>=1.16.5 in /usr/local/lib/python3.7/dist-packages (from scipy>=0.19->summa) (1.21.6)\n"
          ]
        },
        {
          "output_type": "stream",
          "name": "stderr",
          "text": [
            "[nltk_data] Downloading package punkt to /root/nltk_data...\n",
            "[nltk_data]   Package punkt is already up-to-date!\n"
          ]
        },
        {
          "output_type": "stream",
          "name": "stdout",
          "text": [
            "Drive already mounted at /content/drive; to attempt to forcibly remount, call drive.mount(\"/content/drive\", force_remount=True).\n",
            "/content/drive/My Drive\n"
          ]
        }
      ],
      "source": [
        "#@title THIRD: Enter name of file below:\n",
        "\n",
        "file_name = 'aug03_2022.raw.fasta' #@param {type:\"string\"}\n",
        "\n",
        "#Import and mount to drive\n",
        "\n",
        "#import os, sys\n",
        "#from sklearn.preprocessing import MinMaxScaler\n",
        "#from xgboost import XGBClassifier\n",
        "#from sklearn.model_selection import train_test_split\n",
        "#from sklearn.metrics import accuracy_score\n",
        "#from sklearn.metrics import confusion_matrix\n",
        "#import seaborn as sn\n",
        "#import matplotlib.pyplot as plt\n",
        "\n",
        "from google.colab import drive\n",
        "import pandas as pd\n",
        "import numpy as np\n",
        "\n",
        "!pip install newspaper3k\n",
        "!pip install summa\n",
        "\n",
        "import newspaper\n",
        "import nltk\n",
        "import json\n",
        "import re\n",
        "\n",
        "from summa import summarizer, keywords\n",
        "nltk.download('punkt')\n",
        "\n",
        "drive.mount('/content/drive')\n",
        "%cd /content/drive/My Drive\n",
        "\n",
        "infile = open(file_name)\n",
        "\n",
        "alllines = []\n",
        "\n",
        "urls = []\n",
        "summaries = []\n",
        "temp = \"\"\n",
        "for line in infile:\n",
        "  if line != '\\n':\n",
        "    alllines.append(line)\n",
        "    temp += line\n",
        "alllines = temp.split(' \\n')\n",
        "\n",
        "for line in alllines:\n",
        "  if \"https\" in line:\n",
        "    temppy = line.split('\\n')\n",
        "    urls.append(temppy[1])\n",
        "    summaries.append(temppy[0])"
      ]
    },
    {
      "cell_type": "code",
      "source": [
        "#@title FOURTH: Enter topic names you would like to search for--Separate with a comma:\n",
        "\n",
        "terms = \"Russia, Wagner, Putin, Moscow, Ukrain, Zelenskyy, Kyiv\" #@param {type:\"string\"}\n",
        "\n",
        "\n",
        "def get_sentences(text):\n",
        "  #print(text)\n",
        "  paragraphs = []\n",
        "  paragraphs = text.split(\"\\n\\n\")\n",
        "\n",
        "  warTerms = terms.split(\", \")\n",
        "  \n",
        "  countries = [\"African Union\",\"Algeria\",\"Angola\",\"Benin\",\"Botswana\",\"Burkina Faso\",\"Burundi\",\"Verde\",\"Cameroon\",\n",
        "          \"Central African Republic\",\"CAR\", \"Chad\",\"Comoros\",\"Congo\",\"Cote d’Ivoire\",\"Djibouti\",\"Egypt\",\"Equatorial Guinea\",\"Eritrea\",\"Eswatini\",\n",
        "          \"Ethiopia\",\"Gabon\",\"Gambia\",\"Ghana\",\"Guinea\",\"Guinea-Bissau\",\"Kenya\",\"Lesotho\",\"Liberia\",\"Libya\",\"Madagascar\",\"Malawi\",\"Mali\",\n",
        "          \"Mauritania\",\"Mauritius\",\"Morocco\",\"Mozambique\",\"Namibia\",\"Niger\",\"Nigeria\",\"Rwanda\",\"Sao Tome\",\"Principe\",\"Senegal\",\"Seychelles\",\n",
        "          \"Sierra Leone\",\"Somalia\",\"South Africa\",\"South Sudan\",\"Sudan\",\"Tanzania\",\"Togo\",\"Tunisia\",\"Uganda\",\"Western Saharah\",\"Yemen\",\"Zambia\",\n",
        "          \"Zimbabwe\"]\n",
        "\n",
        "  textList = []\n",
        "  warTermPresent = False\n",
        "\n",
        " #print(warTerms)\n",
        "\n",
        "  for para in paragraphs:\n",
        "    #print(para)\n",
        "    for x in warTerms:\n",
        "      if x in para:\n",
        "        textList.append(para)\n",
        "        warTermPresent = True\n",
        "  intext = 0\n",
        "  reducedList = []\n",
        "  if warTermPresent == True:\n",
        "    intext = 1\n",
        "    for para in textList:\n",
        "      for c in countries:\n",
        "        if c in para:\n",
        "          reducedList.append(para)\n",
        "\n",
        "  test = list(set(reducedList))\n",
        "  return intext"
      ],
      "metadata": {
        "cellView": "form",
        "id": "yTE3ZS5zuDU7"
      },
      "execution_count": null,
      "outputs": []
    },
    {
      "cell_type": "code",
      "source": [
        "#@title **Some URLS do not work with this code. Here is the list of them: \n",
        "\n",
        "dataa = [[]]\n",
        "manual = []\n",
        "\n",
        "for line in urls:\n",
        "  article = newspaper.Article(url=line, language='en')\n",
        "  sum = summaries.pop(0)\n",
        "  try:\n",
        "    article.download()\n",
        "    article.parse()\n",
        "    article.nlp()\n",
        "    temp = []\n",
        "    #'url', 'title', 'summary from email', 'sample summary', 'mention_of_vars'\n",
        "    temp.append(line)\n",
        "    temp.append(article.title)\n",
        "    temp.append(sum)\n",
        "    sim = get_sentences(article.text)\n",
        "    temp.append(article.summary)\n",
        "    mis = get_sentences(sum)\n",
        "    temp.append(sim+mis)\n",
        "    \n",
        "    dataa.append(temp)\n",
        "\n",
        "  except:\n",
        "    print(\"url could not be downloaded: \" + line)\n",
        "    manual.append(line)"
      ],
      "metadata": {
        "colab": {
          "base_uri": "https://localhost:8080/"
        },
        "cellView": "form",
        "id": "IeqyPTVuzCDI",
        "outputId": "f5be68d7-3624-4bc6-fca6-d576eb3e6412"
      },
      "execution_count": null,
      "outputs": [
        {
          "output_type": "stream",
          "name": "stdout",
          "text": [
            "url could not be downloaded: https://www.barrons.com/news/dr-congo-says-36-killed-in-recent-anti-un-protests-01659439507\n",
            "url could not be downloaded: https://www.barrons.com/news/congo-brazzaville-president-s-party-wins-111-of-151-seats-01659480906\n",
            "url could not be downloaded: https://www.barrons.com/news/11-adf-rebels-killed-in-east-dr-congo-army-01659463208\n",
            "url could not be downloaded: https://www.barrons.com/news/why-are-we-being-ignored-plead-the-hungry-in-ethiopia-s-afar-01659506407\n",
            "url could not be downloaded: https://www.barrons.com/news/burkina-town-blockaded-by-jihadists-warns-of-famine-01659522009\n",
            "url could not be downloaded: https://www.barrons.com/news/mali-orders-foreign-forces-out-of-airport-base-after-icoast-dispute-01659463807\n"
          ]
        }
      ]
    },
    {
      "cell_type": "code",
      "source": [
        "#@title A preview of output file. Enter name for output file (.csv format) { display-mode: \"form\" }\n",
        "\n",
        "file_name = 'aug03_2022.csv' #@param {type:\"string\"}\n",
        "\n",
        "cols = ['url', 'title', 'summary from email', 'sample summaries','mention_of_terms']\n",
        "dataa.pop(0)\n",
        "\n",
        "df = pd.DataFrame(data=dataa, columns=cols)\n",
        "df = df[df.mention_of_terms != 0]\n",
        "df.head()"
      ],
      "metadata": {
        "colab": {
          "base_uri": "https://localhost:8080/"
        },
        "id": "vZ4VFWn_4pOx",
        "outputId": "16194065-85dc-4a49-bf4d-6220068d2021"
      },
      "execution_count": null,
      "outputs": [
        {
          "output_type": "execute_result",
          "data": {
            "text/plain": [
              "                                                  url  \\\n",
              "0   https://www.theeastafrican.co.ke/tea/oped/edit...   \n",
              "1   https://www.dailymaverick.co.za/article/2022-0...   \n",
              "4   https://apnews.com/article/africa-elections-ca...   \n",
              "5   https://www.washingtonpost.com/world/2022/08/0...   \n",
              "13  https://www.theeastafrican.co.ke/tea/news/east...   \n",
              "\n",
              "                                                title  \\\n",
              "0   Conflict, climate change, economic shocks deny...   \n",
              "1   Africa needs to forge a unified approach to Ru...   \n",
              "4   Kenya’s election rips open scars of inequality...   \n",
              "5   A wild-card candidate in Kenya is sparking an ...   \n",
              "13  Biden’s UN envoy in Africa tour to counter Russia   \n",
              "\n",
              "                                   summary from email  \\\n",
              "0   [Opinion] Conflict, climate change, economic s...   \n",
              "1   [Opinion] Africa needs to forge a unified appr...   \n",
              "4   Kenya’s election rips open scars of inequality...   \n",
              "5   A wild-card candidate in Kenya is sparking an ...   \n",
              "13  Biden’s UN envoy in Africa tour to counter Rus...   \n",
              "\n",
              "                                     sample summaries  mention_of_terms  \n",
              "0   Conflict, climate change, and economic shocks ...                 2  \n",
              "1   The trip has underscored the importance for Af...                 2  \n",
              "4   Kenya's Aug. 9 election is ripping open the sc...                 1  \n",
              "5   Placeholder while article actions loadNAIROBI ...                 1  \n",
              "13  “We want African countries not to buy into Rus...                 2  "
            ],
            "text/html": [
              "\n",
              "  <div id=\"df-95f1731a-1490-4b59-a998-dc00434c07a1\">\n",
              "    <div class=\"colab-df-container\">\n",
              "      <div>\n",
              "<style scoped>\n",
              "    .dataframe tbody tr th:only-of-type {\n",
              "        vertical-align: middle;\n",
              "    }\n",
              "\n",
              "    .dataframe tbody tr th {\n",
              "        vertical-align: top;\n",
              "    }\n",
              "\n",
              "    .dataframe thead th {\n",
              "        text-align: right;\n",
              "    }\n",
              "</style>\n",
              "<table border=\"1\" class=\"dataframe\">\n",
              "  <thead>\n",
              "    <tr style=\"text-align: right;\">\n",
              "      <th></th>\n",
              "      <th>url</th>\n",
              "      <th>title</th>\n",
              "      <th>summary from email</th>\n",
              "      <th>sample summaries</th>\n",
              "      <th>mention_of_terms</th>\n",
              "    </tr>\n",
              "  </thead>\n",
              "  <tbody>\n",
              "    <tr>\n",
              "      <th>0</th>\n",
              "      <td>https://www.theeastafrican.co.ke/tea/oped/edit...</td>\n",
              "      <td>Conflict, climate change, economic shocks deny...</td>\n",
              "      <td>[Opinion] Conflict, climate change, economic s...</td>\n",
              "      <td>Conflict, climate change, and economic shocks ...</td>\n",
              "      <td>2</td>\n",
              "    </tr>\n",
              "    <tr>\n",
              "      <th>1</th>\n",
              "      <td>https://www.dailymaverick.co.za/article/2022-0...</td>\n",
              "      <td>Africa needs to forge a unified approach to Ru...</td>\n",
              "      <td>[Opinion] Africa needs to forge a unified appr...</td>\n",
              "      <td>The trip has underscored the importance for Af...</td>\n",
              "      <td>2</td>\n",
              "    </tr>\n",
              "    <tr>\n",
              "      <th>4</th>\n",
              "      <td>https://apnews.com/article/africa-elections-ca...</td>\n",
              "      <td>Kenya’s election rips open scars of inequality...</td>\n",
              "      <td>Kenya’s election rips open scars of inequality...</td>\n",
              "      <td>Kenya's Aug. 9 election is ripping open the sc...</td>\n",
              "      <td>1</td>\n",
              "    </tr>\n",
              "    <tr>\n",
              "      <th>5</th>\n",
              "      <td>https://www.washingtonpost.com/world/2022/08/0...</td>\n",
              "      <td>A wild-card candidate in Kenya is sparking an ...</td>\n",
              "      <td>A wild-card candidate in Kenya is sparking an ...</td>\n",
              "      <td>Placeholder while article actions loadNAIROBI ...</td>\n",
              "      <td>1</td>\n",
              "    </tr>\n",
              "    <tr>\n",
              "      <th>13</th>\n",
              "      <td>https://www.theeastafrican.co.ke/tea/news/east...</td>\n",
              "      <td>Biden’s UN envoy in Africa tour to counter Russia</td>\n",
              "      <td>Biden’s UN envoy in Africa tour to counter Rus...</td>\n",
              "      <td>“We want African countries not to buy into Rus...</td>\n",
              "      <td>2</td>\n",
              "    </tr>\n",
              "  </tbody>\n",
              "</table>\n",
              "</div>\n",
              "      <button class=\"colab-df-convert\" onclick=\"convertToInteractive('df-95f1731a-1490-4b59-a998-dc00434c07a1')\"\n",
              "              title=\"Convert this dataframe to an interactive table.\"\n",
              "              style=\"display:none;\">\n",
              "        \n",
              "  <svg xmlns=\"http://www.w3.org/2000/svg\" height=\"24px\"viewBox=\"0 0 24 24\"\n",
              "       width=\"24px\">\n",
              "    <path d=\"M0 0h24v24H0V0z\" fill=\"none\"/>\n",
              "    <path d=\"M18.56 5.44l.94 2.06.94-2.06 2.06-.94-2.06-.94-.94-2.06-.94 2.06-2.06.94zm-11 1L8.5 8.5l.94-2.06 2.06-.94-2.06-.94L8.5 2.5l-.94 2.06-2.06.94zm10 10l.94 2.06.94-2.06 2.06-.94-2.06-.94-.94-2.06-.94 2.06-2.06.94z\"/><path d=\"M17.41 7.96l-1.37-1.37c-.4-.4-.92-.59-1.43-.59-.52 0-1.04.2-1.43.59L10.3 9.45l-7.72 7.72c-.78.78-.78 2.05 0 2.83L4 21.41c.39.39.9.59 1.41.59.51 0 1.02-.2 1.41-.59l7.78-7.78 2.81-2.81c.8-.78.8-2.07 0-2.86zM5.41 20L4 18.59l7.72-7.72 1.47 1.35L5.41 20z\"/>\n",
              "  </svg>\n",
              "      </button>\n",
              "      \n",
              "  <style>\n",
              "    .colab-df-container {\n",
              "      display:flex;\n",
              "      flex-wrap:wrap;\n",
              "      gap: 12px;\n",
              "    }\n",
              "\n",
              "    .colab-df-convert {\n",
              "      background-color: #E8F0FE;\n",
              "      border: none;\n",
              "      border-radius: 50%;\n",
              "      cursor: pointer;\n",
              "      display: none;\n",
              "      fill: #1967D2;\n",
              "      height: 32px;\n",
              "      padding: 0 0 0 0;\n",
              "      width: 32px;\n",
              "    }\n",
              "\n",
              "    .colab-df-convert:hover {\n",
              "      background-color: #E2EBFA;\n",
              "      box-shadow: 0px 1px 2px rgba(60, 64, 67, 0.3), 0px 1px 3px 1px rgba(60, 64, 67, 0.15);\n",
              "      fill: #174EA6;\n",
              "    }\n",
              "\n",
              "    [theme=dark] .colab-df-convert {\n",
              "      background-color: #3B4455;\n",
              "      fill: #D2E3FC;\n",
              "    }\n",
              "\n",
              "    [theme=dark] .colab-df-convert:hover {\n",
              "      background-color: #434B5C;\n",
              "      box-shadow: 0px 1px 3px 1px rgba(0, 0, 0, 0.15);\n",
              "      filter: drop-shadow(0px 1px 2px rgba(0, 0, 0, 0.3));\n",
              "      fill: #FFFFFF;\n",
              "    }\n",
              "  </style>\n",
              "\n",
              "      <script>\n",
              "        const buttonEl =\n",
              "          document.querySelector('#df-95f1731a-1490-4b59-a998-dc00434c07a1 button.colab-df-convert');\n",
              "        buttonEl.style.display =\n",
              "          google.colab.kernel.accessAllowed ? 'block' : 'none';\n",
              "\n",
              "        async function convertToInteractive(key) {\n",
              "          const element = document.querySelector('#df-95f1731a-1490-4b59-a998-dc00434c07a1');\n",
              "          const dataTable =\n",
              "            await google.colab.kernel.invokeFunction('convertToInteractive',\n",
              "                                                     [key], {});\n",
              "          if (!dataTable) return;\n",
              "\n",
              "          const docLinkHtml = 'Like what you see? Visit the ' +\n",
              "            '<a target=\"_blank\" href=https://colab.research.google.com/notebooks/data_table.ipynb>data table notebook</a>'\n",
              "            + ' to learn more about interactive tables.';\n",
              "          element.innerHTML = '';\n",
              "          dataTable['output_type'] = 'display_data';\n",
              "          await google.colab.output.renderOutput(dataTable, element);\n",
              "          const docLink = document.createElement('div');\n",
              "          docLink.innerHTML = docLinkHtml;\n",
              "          element.appendChild(docLink);\n",
              "        }\n",
              "      </script>\n",
              "    </div>\n",
              "  </div>\n",
              "  "
            ]
          },
          "metadata": {},
          "execution_count": 79
        }
      ]
    },
    {
      "cell_type": "code",
      "source": [
        "#@title Output files is saved to \"My Drive\" { display-mode: \"form\" }\n",
        "\n",
        "path = '/content/drive/My Drive/' + file_name\n",
        "\n",
        "with open(path, 'w', encoding = 'utf-8-sig') as f:\n",
        "  df.to_csv(f)\n",
        "\n",
        "\n",
        "\n",
        "path = '/content/drive/My Drive/not_downloaded_' + file_name\n",
        "\n",
        "with open(path, 'w', encoding = 'utf-8-sig') as p: \n",
        "  for line in manual:\n",
        "    if 'https' in line:\n",
        "      p.write(line + \"\\n\")"
      ],
      "metadata": {
        "id": "mKbKZ_-iUeC2"
      },
      "execution_count": null,
      "outputs": []
    },
    {
      "cell_type": "markdown",
      "source": [
        "FIFTH: \n",
        "- Close the folder by clicking on the small downward facing arrow to the left of the words \"This file project will take in all of the emails...\"\n",
        "- Click the triangle \"play\" button to the left of the words \"*9 cells hidden*\"\n",
        "- Once the file is running, a pop-up display will show asking if you want to connect the file to your google drive --> Sign-in to your account"
      ],
      "metadata": {
        "id": "OUjKxFS1qmr-"
      }
    },
    {
      "cell_type": "markdown",
      "source": [
        "# Explanation of Output file columns"
      ],
      "metadata": {
        "id": "DpTPIMgYsh7H"
      }
    },
    {
      "cell_type": "markdown",
      "source": [
        "***Output file only containst the urls from email that have at least ONE of the terms you mentioned above***"
      ],
      "metadata": {
        "id": "-Uvvkbknsm3E"
      }
    },
    {
      "cell_type": "markdown",
      "source": [
        "Columns:\n",
        "- 'url', 'title', and 'summary from email': from the email\n",
        "- 'sample summaries': AI generated summaries from the article's text which can aid research\n",
        "- 'mention_of_terms': number of times any of the terms you mentioned above were in the article's text"
      ],
      "metadata": {
        "id": "3SWEqADytseK"
      }
    }
  ]
}